{
 "cells": [
  {
   "cell_type": "markdown",
   "metadata": {},
   "source": [
    "指数基金估值法：\n",
    "\n",
    "1. 盈利收益率\n",
    "2. 博格公式法\n",
    "\n",
    "查询网站：\n",
    "\n",
    "1. [韭菜估值](http://funddb.cn/)\n",
    "2. [投资数据网](https://www.touzid.com/indice/index.html#/)\n",
    "3. 雪球APP：“行情-指数估值”界面\n",
    "4. 天天基金APP：“指数宝-低估榜单”界面\n",
    "5. [蛋卷基金](https://danjuanapp.com/djmodule/value-center?channel=1300100141)\n",
    "6. [易方达指数基金网](http://www.indexfunds.com.cn/analyse/estimate)\n",
    "7. [乌龟量化](https://androidinvest.com/IndicesTop/)\n",
    "8. [中证指数官网](http://www.csindex.com.cn/)\n",
    "9. [恒生指数官网](https://www.hsi.com.hk/schi)\n",
    "10. 银行螺丝钉微信公众号"
   ]
  }
 ],
 "metadata": {
  "kernelspec": {
   "display_name": "Python 3",
   "language": "python",
   "name": "python3"
  },
  "language_info": {
   "codemirror_mode": {
    "name": "ipython",
    "version": 3
   },
   "file_extension": ".py",
   "mimetype": "text/x-python",
   "name": "python",
   "nbconvert_exporter": "python",
   "pygments_lexer": "ipython3",
   "version": "3.7.6"
  }
 },
 "nbformat": 4,
 "nbformat_minor": 4
}
