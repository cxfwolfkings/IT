{
 "cells": [
  {
   "cell_type": "markdown",
   "metadata": {},
   "source": [
    "慕容复射雕，何解？\n",
    "\n",
    "前期声名显赫，中期诸事不得，后期天下笑柄。\n",
    "\n",
    "为何：\n",
    "\n",
    "不忠不孝不仁不义\n",
    "\n",
    "正道：\n",
    "\n",
    "专心求学，行侠仗义；\n",
    "有情有义，大智若愚。\n",
    "\n",
    "学习射雕大侠，不沉迷过往，把握当下，着眼未来！\n",
    "\n",
    "既已弯弓搭箭，必要西北望射天狼，岂能轻易收回！"
   ]
  }
 ],
 "metadata": {
  "kernelspec": {
   "display_name": "Python 3",
   "language": "python",
   "name": "python3"
  },
  "language_info": {
   "codemirror_mode": {
    "name": "ipython",
    "version": 3
   },
   "file_extension": ".py",
   "mimetype": "text/x-python",
   "name": "python",
   "nbconvert_exporter": "python",
   "pygments_lexer": "ipython3",
   "version": "3.7.6"
  }
 },
 "nbformat": 4,
 "nbformat_minor": 4
}
