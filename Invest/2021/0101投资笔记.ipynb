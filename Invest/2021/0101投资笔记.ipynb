{
 "cells": [
  {
   "cell_type": "markdown",
   "metadata": {},
   "source": [
    "要想达到一年40%的收益率，难吗？\n",
    "\n",
    "不管难易，我都以此为目标。\n",
    "\n",
    "要想成功，必须做到：\n",
    "\n",
    "1. 挑选合适的标的\n",
    "2. 让收益入袋为安\n",
    "3. 以价值投资理念为根\n",
    "4. 通过趋势和技术手段择时\n",
    "5. 做好仓位管理\n",
    "6. 敢于与众不同\n",
    "\n",
    "我可以关注的行业：股票、期货、古董\n",
    "\n",
    "通过股票赚取第一桶金，然后尝试期货和古董投资。\n",
    "\n",
    "至少20年，我必须完成目标，这样，我就可以安心地退休，开始我这一生真正想做的事业！"
   ]
  }
 ],
 "metadata": {
  "kernelspec": {
   "display_name": "Python 3",
   "language": "python",
   "name": "python3"
  },
  "language_info": {
   "codemirror_mode": {
    "name": "ipython",
    "version": 3
   },
   "file_extension": ".py",
   "mimetype": "text/x-python",
   "name": "python",
   "nbconvert_exporter": "python",
   "pygments_lexer": "ipython3",
   "version": "3.7.6"
  }
 },
 "nbformat": 4,
 "nbformat_minor": 4
}
