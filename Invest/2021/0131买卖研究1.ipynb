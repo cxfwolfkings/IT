{
 "cells": [
  {
   "cell_type": "markdown",
   "metadata": {},
   "source": [
    "# 买卖研究\n",
    "\n",
    "1. 买入原则\n",
    "2. 卖出原则\n",
    "\n",
    "何为交易？做买卖。\n",
    "\n",
    "怎么做？买在低点，卖在高点。\n",
    "\n",
    "买股靠胆量、卖股靠心态。"
   ]
  },
  {
   "cell_type": "markdown",
   "metadata": {},
   "source": [
    "## 买入原则\n",
    "\n",
    "1. 在简单上升趋势中买入；\n",
    "2. 在复杂上升趋势的回调中，出现向下分形的时候买入；\n",
    "3. 向上突破前期高点的时候买入；\n",
    "4. 在横盘趋势停顿的下沿买入；\n",
    "\n",
    "近10年，A股大盘的基本区间是2446~3546。从这段时间来看，大盘行情已进入相对高点，买入操作需要谨慎。如果大盘能强势冲上3750点（一个月内，涨幅超过12%），则可以期待新一轮的牛市；如果大盘震荡，说明阻力位（上黄线）再起作用，后续回调的可能性大。\n",
    "\n",
    "指数基金的买入点在支撑位（下黄线）最好，可以满仓，等待利润跑进自己的口袋。\n",
    "\n",
    "![x](../../Resources/stock0002.png)"
   ]
  },
  {
   "cell_type": "code",
   "execution_count": null,
   "metadata": {},
   "outputs": [],
   "source": []
  }
 ],
 "metadata": {
  "kernelspec": {
   "display_name": "Python 3",
   "language": "python",
   "name": "python3"
  },
  "language_info": {
   "codemirror_mode": {
    "name": "ipython",
    "version": 3
   },
   "file_extension": ".py",
   "mimetype": "text/x-python",
   "name": "python",
   "nbconvert_exporter": "python",
   "pygments_lexer": "ipython3",
   "version": "3.7.6"
  }
 },
 "nbformat": 4,
 "nbformat_minor": 4
}
