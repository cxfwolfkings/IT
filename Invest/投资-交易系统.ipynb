{
 "cells": [
  {
   "cell_type": "markdown",
   "metadata": {},
   "source": [
    "# 交易系统\n",
    "\n",
    "1. [长线系统](#长线系统)\n",
    "2. [中线系统](#中线系统)\n",
    "3. [短线系统](#短线系统)\n",
    "\n",
    "交易习惯养成：\n",
    "\n",
    "- 每月4000元资金用于投资股市，3个系统各分一份，剩余一份机动\n",
    "- 记录每一次交易的盈利或亏损，计算回撤\n",
    "- 总结每一次失败交易的原因，思考能否改进系统\n",
    "- 每月写月度总结，记录自己的交易事业。\n",
    "- 每年写年度总结，总结历史交易经验，计划未来\n",
    "\n",
    "交易策略：\n",
    "\n",
    "1. 短线(<10)，只追涨不低吸，**强者恒强、弱者恒弱**\n",
    "2. 中线(<90)，长期趋势向上，箱体突破\n",
    "3. 长线(>90)，寻找便宜公司，价值投资"
   ]
  },
  {
   "cell_type": "markdown",
   "metadata": {},
   "source": [
    "## 短线系统\n",
    "\n",
    "看热点，跟主力，赚得快。\n",
    "\n",
    "有所必为，有所不为。短线操作追求成功率，心不贪，利润靠多次操作积累，不是一只股就要翻倍（除非极有把握）！\n",
    "\n",
    "### 选股策略\n",
    "\n",
    "**只追一板涨停，题材是近期热点**\n",
    "\n",
    "1. 热点持续，持股；热点消退，果断退出。\n",
    "2. 短线操作，最忌停留，绝不恋战。\n",
    "3. 中午之前，不上5%，退出一半；休市之前，不涨停，全部退出；尾盘拉伸，全部退出。\n",
    "4. 早盘阴跌，中休未起，全部退出。\n"
   ]
  },
  {
   "cell_type": "markdown",
   "metadata": {},
   "source": [
    "## 中线系统\n",
    "\n",
    "看趋势，知进退，求平衡。"
   ]
  },
  {
   "cell_type": "markdown",
   "metadata": {},
   "source": [
    "## 长线系统\n",
    "\n",
    "看公司，比价格，赚得稳。"
   ]
  },
  {
   "cell_type": "code",
   "execution_count": null,
   "metadata": {},
   "outputs": [],
   "source": []
  }
 ],
 "metadata": {
  "kernelspec": {
   "display_name": "Python 3",
   "language": "python",
   "name": "python3"
  },
  "language_info": {
   "codemirror_mode": {
    "name": "ipython",
    "version": 3
   },
   "file_extension": ".py",
   "mimetype": "text/x-python",
   "name": "python",
   "nbconvert_exporter": "python",
   "pygments_lexer": "ipython3",
   "version": "3.7.6"
  }
 },
 "nbformat": 4,
 "nbformat_minor": 4
}
