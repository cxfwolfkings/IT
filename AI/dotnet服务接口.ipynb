{
 "cells": [
  {
   "cell_type": "code",
   "execution_count": 2,
   "metadata": {},
   "outputs": [
    {
     "name": "stderr",
     "output_type": "stream",
     "text": [
      "\r\n",
      "(1,28): error CS0234: 命名空间“Microsoft.AspNetCore”中不存在类型或命名空间名“Mvc”(是否缺少程序集引用?)\r\n",
      "\r\n",
      "(6,42): error CS0246: 未能找到类型或命名空间名“ControllerBase”(是否缺少 using 指令或程序集引用?)\r\n",
      "\r\n",
      "(9,24): error CS0246: 未能找到类型或命名空间名“WeatherForecast”(是否缺少 using 指令或程序集引用?)\r\n",
      "\r\n",
      "(4,2): error CS0246: 未能找到类型或命名空间名“ApiControllerAttribute”(是否缺少 using 指令或程序集引用?)\r\n",
      "\r\n",
      "(4,2): error CS0246: 未能找到类型或命名空间名“ApiController”(是否缺少 using 指令或程序集引用?)\r\n",
      "\r\n",
      "(5,2): error CS0246: 未能找到类型或命名空间名“RouteAttribute”(是否缺少 using 指令或程序集引用?)\r\n",
      "\r\n",
      "(5,2): error CS0246: 未能找到类型或命名空间名“Route”(是否缺少 using 指令或程序集引用?)\r\n",
      "\r\n",
      "(8,6): error CS0246: 未能找到类型或命名空间名“HttpGetAttribute”(是否缺少 using 指令或程序集引用?)\r\n",
      "\r\n",
      "(8,6): error CS0246: 未能找到类型或命名空间名“HttpGet”(是否缺少 using 指令或程序集引用?)\r\n",
      "\r\n",
      "(12,59): error CS0246: 未能找到类型或命名空间名“WeatherForecast”(是否缺少 using 指令或程序集引用?)\r\n",
      "\r\n",
      "(16,23): error CS0103: 当前上下文中不存在名称“Summaries”\r\n",
      "\r\n",
      "(16,42): error CS0103: 当前上下文中不存在名称“Summaries”\r\n",
      "\r\n"
     ]
    },
    {
     "ename": "Cell not executed",
     "evalue": "compilation error",
     "output_type": "error",
     "traceback": []
    }
   ],
   "source": [
    "using Microsoft.AspNetCore.Mvc;\n",
    "using System.Collections.Generic;\n",
    "\n",
    "[ApiController]\n",
    "[Route(\"[controller]\")]\n",
    "public class WeatherForecastController : ControllerBase\n",
    "{\n",
    "    [HttpGet]\n",
    "    public IEnumerable<WeatherForecast> Get()\n",
    "    {\n",
    "        var rng = new Random();\n",
    "        return Enumerable.Range(1, 5).Select(index => new WeatherForecast\n",
    "        {\n",
    "            Date = DateTime.Now.AddDays(index),\n",
    "            TemperatureC = rng.Next(-20, 55),\n",
    "            Summary = Summaries[rng.Next(Summaries.Length)]\n",
    "        }).ToArray();\n",
    "    }\n",
    "}"
   ]
  },
  {
   "cell_type": "code",
   "execution_count": null,
   "metadata": {},
   "outputs": [],
   "source": []
  }
 ],
 "metadata": {
  "kernelspec": {
   "display_name": ".NET (C#)",
   "language": "C#",
   "name": ".net-csharp"
  },
  "language_info": {
   "file_extension": ".cs",
   "mimetype": "text/x-csharp",
   "name": "C#",
   "pygments_lexer": "csharp",
   "version": "8.0"
  }
 },
 "nbformat": 4,
 "nbformat_minor": 4
}
