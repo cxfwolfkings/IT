{
 "cells": [
  {
   "cell_type": "code",
   "execution_count": 22,
   "metadata": {},
   "outputs": [
    {
     "data": {
      "text/plain": [
       "'\\n7.1  文件对象声明及基本操作\\n\\n另一种数据格式：文件/文档\\n\\n'"
      ]
     },
     "execution_count": 22,
     "metadata": {},
     "output_type": "execute_result"
    }
   ],
   "source": [
    "'''\n",
    "7.1  文件对象声明及基本操作\n",
    "\n",
    "另一种数据格式：文件/文档\n",
    "\n",
    "'''"
   ]
  },
  {
   "cell_type": "code",
   "execution_count": 23,
   "metadata": {},
   "outputs": [
    {
     "name": "stdout",
     "output_type": "stream",
     "text": [
      "C:/Users/Administrator/Desktop/text.txt\n",
      "C:\\Users\\Administrator\\Desktop\\text.txt\n",
      "C:\\Users\\Administrator\\Desktop\\text.txt\n"
     ]
    }
   ],
   "source": [
    "# 本地文件的界定：指向一个本地存储的文件，是一个链接或者一个映射\n",
    "\n",
    "path1 = 'C:/Users/Administrator/Desktop/text.txt'  # 单个反斜杠：/\n",
    "path2 = 'C:\\\\Users\\\\Administrator\\\\Desktop\\\\text.txt'  # 两个斜杠：\\\\（第一个\\是转义符）\n",
    "path3 = r'C:\\Users\\Administrator\\Desktop\\text.txt'  # r用于防止字符转义\n",
    "# 路径书写格式\n",
    "print(path1)\n",
    "print(path2)\n",
    "print(path3)"
   ]
  },
  {
   "cell_type": "code",
   "execution_count": 24,
   "metadata": {},
   "outputs": [
    {
     "name": "stdout",
     "output_type": "stream",
     "text": [
      "<class '_io.TextIOWrapper'>\n",
      "<_io.TextIOWrapper name='C:\\\\Users\\\\Administrator\\\\Desktop\\\\text.txt' mode='r' encoding='cp936'>\n",
      "核力量\n",
      "全力量\n",
      "手力量\n",
      "读取完毕\n",
      "\n",
      "读取为空\n",
      "核力量\n",
      "全力量\n",
      "手力量\n",
      "第二次读取\n"
     ]
    }
   ],
   "source": [
    "# 读取文件：open语句\n",
    "\n",
    "f = open(path2, 'r')\n",
    "print(type(f))\n",
    "print(f)\n",
    "print(f.read())\n",
    "print('读取完毕')\n",
    "# open('路径', '模式', enconding = '编码' )\n",
    "# 模式：r：读取文件，默认；w：写入；rw：读取+写入；a：追加\n",
    "# 简答的读取方法：.read() → 读取后，光标将会留在读取末尾\n",
    "\n",
    "print(f.read()) \n",
    "print('读取为空')\n",
    "# 运行第一次.read()之后，光标位于末尾，再次读取输出为空\n",
    "\n",
    "f.seek(0)\n",
    "print(f.read()) \n",
    "print('第二次读取')\n",
    "# 所以现在用 f.seek(0) 来移动光标\n",
    "\n",
    "f.close()\n",
    "# print(f.read())   # 关闭后无法读取\n",
    "# 关闭文件链接  f.close()，养成一个好习惯"
   ]
  },
  {
   "cell_type": "code",
   "execution_count": 25,
   "metadata": {},
   "outputs": [
    {
     "data": {
      "text/plain": [
       "'\\n7.2  系统模块下的路径操作\\n\\nos 模块：提供了非常丰富的方法用来处理文件和目录\\n\\n'"
      ]
     },
     "execution_count": 25,
     "metadata": {},
     "output_type": "execute_result"
    }
   ],
   "source": [
    "'''\n",
    "7.2  系统模块下的路径操作\n",
    "\n",
    "os 模块：提供了非常丰富的方法用来处理文件和目录\n",
    "\n",
    "'''"
   ]
  },
  {
   "cell_type": "code",
   "execution_count": 26,
   "metadata": {},
   "outputs": [
    {
     "name": "stdout",
     "output_type": "stream",
     "text": [
      "nt\n",
      "C:\\Users\\Administrator\\Desktop\n",
      "['10.30', '1009', '1020', '1029', '12.3', '2019-10-15 18-25-46.mov', '2019-10-16 11-07-02.mov', '2019-11-29 11-57-55.mov', '360安全浏览器.lnk', 'desktop.ini', 'F1 Accountant in Business 14(1).pptx', 'KMPlayer.lnk', 'MobaXtermLiao', 'Python数据分析实战-第一次课', 'shilu', 'test_write2.txt', 'text.txt', 'text_write.txt', 'text_write2.txt', 'VMware Workstation Pro.lnk', 'XF', '~$ntOS7安装Kubernetes_ketangjiangjie.docx', '~$数据分析实战-第一讲formal.pptx', '~WRL0003.tmp', '东方财富.lnk', '东方财富证券交易.lnk', '休息提示.png', '初级会计实务', '初级会计职称-初级经济（第三章）【改】.pptx', '初级经济法—第三章.pptx', '南华期货-博易云交易版.lnk', '大学.png', '数据分析实战-第一讲formal.pptx', '新闪电王-南华期货.lnk', '百度网盘.lnk', '第9讲 Estimating Volatilities and Correlations - 副本.pptx', '第9讲 Estimating Volatilities and Correlations.pptx', '第二章  资产(上）.pptx', '证券投资入门', '试录', '销售视频模版.docx', '高效求职']\n",
      "('C:\\\\Users\\\\Administrator\\\\Desktop', 'text.txt')\n",
      "False\n",
      "True\n"
     ]
    }
   ],
   "source": [
    "# os模块：系统模块 - 常用命令\n",
    "\n",
    "import os  # 导入模块\n",
    "\n",
    "print(os.name)  # 输出字符串指示正在使用的平台。如果是window 则用'nt'表示，对Linux/Unix用户，它是'posix'。\n",
    "\n",
    "print(os.getcwd())  # 函数得到当前工作目录，即当前Python脚本工作的目录路径。\n",
    "\n",
    "print(os.listdir())  # 返回指定目录下的所有文件和目录名。\n",
    "\n",
    "#os.chdir('C:\\\\Users\\\\Hjx\\\\Desktop\\\\' )  # 切换到目标路径\n",
    "#print(os.getcwd()) \n",
    "\n",
    "#os.remove('text2.txt')  # 删除一个文件\n",
    "\n",
    "print(os.path.split('C:\\\\Users\\\\Administrator\\\\Desktop\\\\text.txt'))  # 函数返回一个路径的目录名和文件名\n",
    "\n",
    "print(os.path.exists('C:\\\\Users\\\\Administrator\\\\Desktop\\\\heheh.txt'))\n",
    "print(os.path.exists('C:\\\\Users\\\\Administrator\\\\Desktop\\\\'))\n",
    "# 用来检验给出的路径是否真地存在，这里不存在改文件故False，但路径存在故True"
   ]
  },
  {
   "cell_type": "code",
   "execution_count": 27,
   "metadata": {},
   "outputs": [
    {
     "name": "stdout",
     "output_type": "stream",
     "text": [
      "核力量\n",
      "全力量\n",
      "手力量\n"
     ]
    }
   ],
   "source": [
    "# 相对路径和绝对路径\n",
    "\n",
    "os.chdir('C:\\\\Users\\\\Administrator\\\\Desktop\\\\' )\n",
    "f2 = open('text.txt','r')\n",
    "print(f2.read())\n",
    "# 在申明了目录之后，就可以直接输出文件名了 → 相对路径"
   ]
  },
  {
   "cell_type": "code",
   "execution_count": 28,
   "metadata": {},
   "outputs": [
    {
     "data": {
      "text/plain": [
       "'\\n7.3  文件的读取与写入\\n\\nos 模块：提供了非常丰富的方法用来处理文件和目录\\n\\n'"
      ]
     },
     "execution_count": 28,
     "metadata": {},
     "output_type": "execute_result"
    }
   ],
   "source": [
    "'''\n",
    "7.3  文件的读取与写入\n",
    "\n",
    "os 模块：提供了非常丰富的方法用来处理文件和目录\n",
    "\n",
    "'''"
   ]
  },
  {
   "cell_type": "code",
   "execution_count": 29,
   "metadata": {},
   "outputs": [
    {
     "name": "stdout",
     "output_type": "stream",
     "text": [
      "核力量\n",
      "全力量\n",
      "手力量\n"
     ]
    }
   ],
   "source": [
    "# 文件读取 - read\n",
    "\n",
    "f = open('C:\\\\Users\\\\Administrator\\\\Desktop\\\\text.txt', 'r')\n",
    "print(f.read())\n",
    "# 直接读取（这里光标默认会在最末尾）"
   ]
  },
  {
   "cell_type": "code",
   "execution_count": 30,
   "metadata": {},
   "outputs": [
    {
     "name": "stdout",
     "output_type": "stream",
     "text": [
      "核力\n"
     ]
    }
   ],
   "source": [
    "f.seek(0)\n",
    "print(f.read(2))\n",
    "# f.read(n):n代表读取多少个字符"
   ]
  },
  {
   "cell_type": "code",
   "execution_count": 31,
   "metadata": {},
   "outputs": [
    {
     "name": "stdout",
     "output_type": "stream",
     "text": [
      "核力量\n",
      "\n",
      "全力量\n",
      "\n",
      "手力量\n"
     ]
    }
   ],
   "source": [
    "f.seek(0)\n",
    "print(f.readline())\n",
    "print(f.readline())\n",
    "print(f.readline(4))\n",
    "# 读取行到字符串，一次性读取一行\n",
    "# f.readline(n)：读取该行的前n个字符"
   ]
  },
  {
   "cell_type": "code",
   "execution_count": 32,
   "metadata": {
    "scrolled": true
   },
   "outputs": [
    {
     "name": "stdout",
     "output_type": "stream",
     "text": [
      "<class 'str'> 核力量\n",
      "\n",
      "<class 'str'> 全力量\n",
      "\n",
      "<class 'str'> 手力量\n"
     ]
    }
   ],
   "source": [
    "f.seek(0)\n",
    "for line in f.readlines():\n",
    "    print(type(line),line)\n",
    "# 遍历一个文件：for语句+f.readlines()"
   ]
  },
  {
   "cell_type": "code",
   "execution_count": 38,
   "metadata": {},
   "outputs": [
    {
     "data": {
      "text/plain": [
       "12"
      ]
     },
     "execution_count": 38,
     "metadata": {},
     "output_type": "execute_result"
    }
   ],
   "source": [
    "# 文件写入 - write\n",
    "\n",
    "path =  'C:\\\\Users\\\\Administrator\\\\Desktop\\\\text_write.txt' \n",
    "f = open(path, 'w', encoding = 'utf8')\n",
    "f.write('hello world!')\n",
    "# 执行后直接创建“test_write.txt”文件，并写入“hello world！”\n",
    "# 12代表输入了12个字符，但是文件内真的有写入吗？打开看看"
   ]
  },
  {
   "cell_type": "code",
   "execution_count": 39,
   "metadata": {},
   "outputs": [],
   "source": [
    "f.close()\n",
    "# 为什么没有？因为刚才是在内存里运行，我们需要再加上close才能写入"
   ]
  },
  {
   "cell_type": "code",
   "execution_count": 35,
   "metadata": {},
   "outputs": [],
   "source": [
    "path =  'C:\\\\Users\\\\Administrator\\\\Desktop\\\\' \n",
    "f = open(path + 'text_write2.txt', 'w', encoding = 'utf8')\n",
    "lst = ['a','b','c','d','e']\n",
    "f.writelines(lst)\n",
    "f.close()\n",
    "# f.writelines(list)：依次把列表元素写入，但这里有没有提行？\n",
    "# 如果想每一个元素提行怎么办？ → 每个元素后都有\"\\n\""
   ]
  },
  {
   "cell_type": "code",
   "execution_count": 36,
   "metadata": {},
   "outputs": [],
   "source": [
    "path =  'C:\\\\Users\\\\Administrator\\\\Desktop\\\\' \n",
    "f = open(path + 'test_write2.txt', 'w', encoding = 'utf8')\n",
    "lst = ['a','b','c','d','e']\n",
    "\n",
    "for i in range(len(lst)):\n",
    "    lst[i] = lst[i] + '\\n'\n",
    "    \n",
    "f.writelines(lst)\n",
    "f.close()\n",
    "# 通过遍历给每个元素最后加上\"\\n\""
   ]
  },
  {
   "cell_type": "code",
   "execution_count": 40,
   "metadata": {},
   "outputs": [
    {
     "name": "stdout",
     "output_type": "stream",
     "text": [
      "finished!\n"
     ]
    }
   ],
   "source": [
    "# 答案代码\n",
    "\n",
    "n = list(range(1,11))\n",
    "v = ['a','b','c','d','e','f','g','h','i','j']\n",
    "\n",
    "f = open( 'C:\\\\Users\\\\Administrator\\\\Desktop\\\\test_write3.txt', 'w', encoding = 'utf8')\n",
    "m = []\n",
    "\n",
    "for i in range(len(n)):\n",
    "    f.writelines([str(n[i]),',',v[i] + '\\n'])\n",
    "\n",
    "f.close()\n",
    "print('finished!')"
   ]
  },
  {
   "cell_type": "code",
   "execution_count": null,
   "metadata": {},
   "outputs": [],
   "source": [
    "'''\n",
    "7.3  pickle模块的运用\n",
    "\n",
    "pickle提供了一个简单的持久化功能。可以将对象以文件的形式存放在磁盘上。\n",
    "\n",
    "python的pickle模块实现了基本的数据序列和反序列化\n",
    "\n",
    "通过pickle模块的序列化操作我们能够将程序中运行的对象信息保存到文件中去，永久存储\n",
    "\n",
    "通过pickle模块的反序列化操作，我们能够从文件中创建上一次程序保存的对象。\n",
    "\n",
    "pickle.dump() / pickle.load()\n",
    "\n",
    "'''"
   ]
  },
  {
   "cell_type": "code",
   "execution_count": 43,
   "metadata": {},
   "outputs": [
    {
     "name": "stdout",
     "output_type": "stream",
     "text": [
      "{'a': [1, 2, 3, 4], 'b': ('string', 'abc'), 'c': 'hello'}\n"
     ]
    }
   ],
   "source": [
    "# 存储：pickle.dump(obj, file, [,protocol])\n",
    "\n",
    "import pickle\n",
    "\n",
    "data = {'a':[1,2,3,4], 'b':('string','abc'), 'c':'hello'}\n",
    "print(data)\n",
    "# 创建一个字典变量data\n",
    "\n",
    "pic = open( 'C:\\\\Users\\\\Administrator\\\\Desktop\\\\data.pkl', 'wb')\n",
    "# 以二进制来存储：rb, wb, wrb, ab\n",
    "\n",
    "pickle.dump(data,pic)\n",
    "pic.close()\n",
    "# 将一个字典数据存成了pkl文件"
   ]
  },
  {
   "cell_type": "code",
   "execution_count": 45,
   "metadata": {},
   "outputs": [
    {
     "ename": "FileNotFoundError",
     "evalue": "[Errno 2] No such file or directory: 'C:\\\\Users\\\\Administrator\\\\data.pkl'",
     "output_type": "error",
     "traceback": [
      "\u001b[1;31m---------------------------------------------------------------------------\u001b[0m",
      "\u001b[1;31mFileNotFoundError\u001b[0m                         Traceback (most recent call last)",
      "\u001b[1;32m<ipython-input-45-91a2f5fb698f>\u001b[0m in \u001b[0;36m<module>\u001b[1;34m\u001b[0m\n\u001b[0;32m      1\u001b[0m \u001b[1;31m# 读取：pickle.load(file)\u001b[0m\u001b[1;33m\u001b[0m\u001b[1;33m\u001b[0m\u001b[1;33m\u001b[0m\u001b[0m\n\u001b[0;32m      2\u001b[0m \u001b[1;33m\u001b[0m\u001b[0m\n\u001b[1;32m----> 3\u001b[1;33m \u001b[0mf\u001b[0m \u001b[1;33m=\u001b[0m \u001b[0mopen\u001b[0m\u001b[1;33m(\u001b[0m \u001b[1;34m'C:\\\\Users\\\\Administrator\\\\data.pkl'\u001b[0m\u001b[1;33m,\u001b[0m \u001b[1;34m'rb'\u001b[0m\u001b[1;33m)\u001b[0m\u001b[1;33m\u001b[0m\u001b[1;33m\u001b[0m\u001b[0m\n\u001b[0m\u001b[0;32m      4\u001b[0m \u001b[1;33m\u001b[0m\u001b[0m\n\u001b[0;32m      5\u001b[0m \u001b[0mst\u001b[0m \u001b[1;33m=\u001b[0m \u001b[0mpickle\u001b[0m\u001b[1;33m.\u001b[0m\u001b[0mload\u001b[0m\u001b[1;33m(\u001b[0m\u001b[0mf\u001b[0m\u001b[1;33m)\u001b[0m\u001b[1;33m\u001b[0m\u001b[1;33m\u001b[0m\u001b[0m\n",
      "\u001b[1;31mFileNotFoundError\u001b[0m: [Errno 2] No such file or directory: 'C:\\\\Users\\\\Administrator\\\\data.pkl'"
     ]
    }
   ],
   "source": [
    "# 读取：pickle.load(file)\n",
    "\n",
    "f = open( 'C:\\\\Users\\\\Administrator\\\\DeskTop\\\\data.pkl', 'rb')\n",
    "\n",
    "st = pickle.load(f)\n",
    "print(st)\n",
    "# 直接读取pkl文件内的数据，该数据为一个字典"
   ]
  },
  {
   "cell_type": "code",
   "execution_count": null,
   "metadata": {},
   "outputs": [],
   "source": []
  }
 ],
 "metadata": {
  "anaconda-cloud": {},
  "kernelspec": {
   "display_name": "Python 3",
   "language": "python",
   "name": "python3"
  },
  "language_info": {
   "codemirror_mode": {
    "name": "ipython",
    "version": 3
   },
   "file_extension": ".py",
   "mimetype": "text/x-python",
   "name": "python",
   "nbconvert_exporter": "python",
   "pygments_lexer": "ipython3",
   "version": "3.7.3"
  }
 },
 "nbformat": 4,
 "nbformat_minor": 1
}
