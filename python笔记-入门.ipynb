{
 "cells": [
  {
   "cell_type": "markdown",
   "metadata": {},
   "source": [
    "# 入门\n",
    "\n",
    "1. 理论\n",
    "   - [变量和类型](#变量和类型)\n",
    "   - [运算符](#运算符)\n",
    "   - [基本语句](#基本语句)\n",
    "     - [注释](#注释)\n",
    "     - [分支结构](#分支结构)\n",
    "     - [循环结构](#循环结构)\n",
    "     - [构造程序逻辑](#构造程序逻辑)\n",
    "   - [函数和模块的使用](#函数和模块的使用)\n",
    "2. 实战\n",
    "   - [安装](#安装)\n",
    "   - [练习](#练习)"
   ]
  },
  {
   "cell_type": "markdown",
   "metadata": {},
   "source": [
    "## 理论\n",
    "\n",
    "计算机的硬件系统通常由五大部件构成，包括：运算器、控制器、存储器、输入设备和输出设备。其中，运算器和控制器放在一起就是我们通常所说的中央处理器，它的功能是执行各种运算和控制指令以及处理计算机软件中的数据。\n",
    "\n",
    "我们通常所说的程序实际上就是指令的集合，我们程序就是将一系列的指令按照某种方式组织到一起，然后通过这些指令去控制计算机做我们想让它做的事情。\n",
    "\n",
    "今天我们大多数时候使用的计算机，虽然它们的元器件做工越来越精密，处理能力越来越强大，但究其本质来说仍然属于“[冯·诺依曼结构](https://zh.wikipedia.org/wiki/%E5%86%AF%C2%B7%E8%AF%BA%E4%BC%8A%E6%9B%BC%E7%BB%93%E6%9E%84)”的计算机。\n",
    "\n",
    "“冯·诺依曼结构”有两个关键点，一是指出要将存储设备与中央处理器分开，二是提出了将数据以二进制方式编码。\n",
    "\n",
    "二进制是一种“逢二进一”的计数法，跟我们人类使用的“逢十进一”的计数法没有实质性的区别，人类因为有十根手指所以使用了十进制（因为在数数时十根手指用完之后就只能进位了，当然凡事都有例外，玛雅人可能是因为长年光着脚的原因把脚趾头也算上了，于是他们使用了二十进制的计数法，在这种计数法的指导下玛雅人的历法就与我们平常使用的历法不一样，而按照玛雅人的历法，2012年是上一个所谓的“太阳纪”的最后一年，而2013年则是新的“太阳纪”的开始，后来这件事情被以讹传讹的方式误传为”2012年是玛雅人预言的世界末日“这种荒诞的说法，今天我们可以大胆的猜测，玛雅文明之所以发展缓慢估计也与使用了二十进制有关）。\n",
    "\n",
    "对于计算机来说，二进制在物理器件上来说是最容易实现的（高电压表示1，低电压表示0），于是在“冯·诺依曼结构”的计算机都使用了二进制。虽然我们并不需要每个程序员都能够使用二进制的思维方式来工作，但是了解二进制以及它与我们生活中的十进制之间的转换关系，以及二进制与八进制和十六进制的转换关系还是有必要的。如果你对这一点不熟悉，可以自行使用维基百科或者百度百科科普一下。\n",
    "\n",
    ">提示：近期关于量子计算机的研究已经被推倒了风口浪尖，量子计算机基于量子力学进行运算，使用量子瞬移的方式来传递信息。2018年6月，Intel宣布开发出新款量子芯片并通过了在接近绝对零度环境下的测试；2019年1月，IBM向全世界发布了首款商业化量子计算机。\n",
    "\n",
    "**程序语言和自然语言**\n",
    "\n",
    "程序是根据语言提供的**指令**，按照一定的逻辑顺序，对获得的数据进行**运算**，并将结果最终返回给我们的指令和数据的组合。\n",
    "\n",
    "> 在这里运算的含义是广泛的，既包括数学计算之类的操作，比如加减乘除；也包括诸如寻找和替换字符串之类的操作。数据也依据需要的不同，组成不同的形式，处理后的数据，也可能以另一种方式体现。\n",
    "\n",
    "程序是用语言写成的。语言分高级语言和低级语言：\n",
    "\n",
    "- 低级语言，有时叫做机器语言或汇编语言。\n",
    "\n",
    "  计算机真正“认识”并能够执行的代码，在我们看来是一串0和1组成的二进制数字，这些数字代表指令和数据。\n",
    "\n",
    "  想一想早期的计算机科学家就是用这些枯燥乏味的数字编程，其严谨的治学精神令人钦佩。低级语言的出现则是计算机程序语言的一大进步，它用英文单词或单词的缩写代表计算机执行的指令，使编程的效率和程序的可读性都有了较大的提高，但由于它仍然和机器硬件关联紧密，依然不符合人类的语言和思维习惯，而且要想把低级语言写的程序移植到其他平台，很不幸，必须重写。\n",
    "\n",
    "- 高级语言的出现是程序语言发展的必然结果，也是计算机语言向人类的自然语言和思维方式逐步靠近和模拟的结果。\n",
    "\n",
    "  这一过程现今仍在继续，将来也不会停止。针对不同领域的应用情况，未来会出现更多新的计算机语言。言归正传，高级语言是人类逻辑思维的程序化、数字化和精确化数学描述。逻辑思维是人类思维方式的重要的一部分，但决不是全部，只有这部分计算机能够比较全面、系统地模拟人类的思维方法。由于高级语言是对人类逻辑思维地描述，用它写程序你会感到比较自然，读起来也比较容易，因此，如今的大部分程序都是用高级语言写的。\n",
    "\n",
    "  高级语言的设计的目的是让程序按照人类的思维和语言习惯书写，它是面向人的，不是面向机器的。我们用着方便，但机器却无法读懂它，更谈不上运行了。所以，用高级语言写的程序，必须经过“翻译”程序的处理，将其转换成机器可执行的代码，才能运行在计算机上。如果想把它移植到别的平台上，只需在它的基础上，做少量更改，就可以了。\n",
    "\n",
    "\n",
    "### 变量和类型\n",
    "\n",
    "在程序设计中，变量是一种存储数据的载体。计算机中的变量是实际存在的数据或者说是存储器中存储数据的一块内存空间，变量的值可以被读取和修改，这是所有计算和控制的基础。\n",
    "\n",
    "计算机能处理的数据有很多种类型，除了数值之外还可以处理文本、图形、音频、视频等各种各样的数据，那么不同的数据就需要定义不同的存储类型。Python中的数据类型很多，而且也允许我们自定义新的数据类型（这一点在后面会讲到），我们先介绍几种常用的数据类型。\n",
    "\n",
    "- **整型**\n",
    "\n",
    "  Python中可以处理任意大小的整数（Python 2.x中有 int 和 long 两种类型的整数，但这种区分对 Python 来说意义不大，因此在 Python 3.x 中整数只有 int 这一种了），而且支持二进制（如0b100，换算成十进制是4）、八进制（如0o100，换算成十进制是64）、十进制（100）和十六进制（0x100，换算成十进制是256）的表示法。\n",
    "  \n",
    "\n",
    "- **浮点型**\n",
    "\n",
    "  浮点数也就是小数，之所以称为浮点数，是因为按照科学记数法表示时，一个浮点数的小数点位置是可变的，浮点数除了数学写法（如123.456）之外还支持科学计数法（如1.23456e2）。\n",
    "  \n",
    "\n",
    "- **字符串型**\n",
    "\n",
    "  字符串是以单引号或双引号括起来的任意文本，比如 'hello' 和 \"hello\",字符串还有原始字符串表示法、字节字符串表示法、Unicode字符串表示法，而且可以书写成多行的形式（用三个单引号或三个双引号开头，三个单引号或三个双引号结尾）。\n",
    "  \n",
    "\n",
    "- **布尔型**\n",
    "\n",
    "  布尔值只有True、False两种值，要么是True，要么是False，在Python中，可以直接用True、False表示布尔值（请注意大小写），也可以通过布尔运算计算出来（例如3 < 5会产生布尔值True，而2 == 1会产生布尔值False）。\n",
    "  \n",
    "\n",
    "- **复数型**\n",
    "\n",
    "  形如`3+5j`，跟数学上的复数表示一样，唯一不同的是虚部的 i 换成了 j。实际上，这个类型并不能算作常用类型，大家了解下就可以了。\n",
    "  \n",
    "\n",
    "**变量命名：**\n",
    "\n",
    "对于每个变量我们需要给它取一个名字，就如同我们每个人都有属于自己的响亮的名字一样。在Python中，变量命名需要遵循以下这些必须遵守硬性规则和强烈建议遵守的非硬性规则。\n",
    "\n",
    "硬性规则：\n",
    "\n",
    "- 变量名由字母（广义的Unicode字符，不包括特殊字符）、数字和下划线构成，数字不能开头。\n",
    "- 大小写敏感（大写的a和小写的A是两个不同的变量）。\n",
    "- 不要跟关键字（有特殊含义的单词，后面会讲到）和系统保留字（如函数、模块等的名字）冲突。\n",
    "\n",
    "PEP 8要求：\n",
    "\n",
    "- 用小写字母拼写，多个单词用下划线连接。\n",
    "- 受保护的实例属性用单个下划线开头（后面会讲到）。\n",
    "- 私有的实例属性用两个下划线开头（后面会讲到）。\n",
    "\n",
    "当然，作为一个专业的程序员，给变量（事实上应该是所有的标识符）命名时做到见名知意也是非常重要的。\n",
    "\n",
    "**变量使用：**\n",
    "\n",
    "下面通过几个例子来说明变量的类型和变量使用。"
   ]
  },
  {
   "cell_type": "code",
   "execution_count": 1,
   "metadata": {},
   "outputs": [
    {
     "name": "stdout",
     "output_type": "stream",
     "text": [
      "<class 'int'> <class 'float'>\n"
     ]
    }
   ],
   "source": [
    "'''\n",
    "【课程1.1】  数据类型概述\n",
    "Python标准数据类型：Numbers数字，String字符串，List列表，Tuple元祖，Dict字典\n",
    "'''\n",
    "# Numbers数字分为：int整型，long长整型，float浮点型，complex复数\n",
    "\n",
    "x1 = 10\n",
    "x2 = 10.0\n",
    "print(type(x1),type(x2))\n",
    "\n",
    "# print()函数，用于输出/打印内容\n",
    "# type()函数，用于查看数据类型"
   ]
  },
  {
   "cell_type": "code",
   "execution_count": 54,
   "metadata": {},
   "outputs": [
    {
     "name": "stdout",
     "output_type": "stream",
     "text": [
      "hello world! <class 'str'>\n",
      "hehe\n",
      "hahaha\n",
      "what is this?\n",
      "it`s a cat.\n"
     ]
    }
   ],
   "source": [
    "# String字符串由数字、字母、下划线组成的一串字符，用于表示文本的数据类型\n",
    "\n",
    "x3 = \"hello world!\"\n",
    "print(x3,type(x3))\n",
    "print('hehe')\n",
    "print(\"hahaha\")\n",
    "print('''what is this?\n",
    "it`s a cat.''')\n",
    "# 一定用英文标点符号，单引号('') 双引号(\"\")一样，三引号(''''''或\"\"\"\"\"\")可以表示多行字符串"
   ]
  },
  {
   "cell_type": "code",
   "execution_count": 55,
   "metadata": {},
   "outputs": [
    {
     "name": "stdout",
     "output_type": "stream",
     "text": [
      "True <class 'bool'>\n",
      "True\n",
      "True\n",
      "10\n"
     ]
    }
   ],
   "source": [
    "# bool布尔型：True，False，用于做判断\n",
    "\n",
    "x4 = True\n",
    "print(x4,type(x4))\n",
    "\n",
    "print(True == 1)\n",
    "print(False == 0)\n",
    "print(True * 10)\n",
    "# True实际值是1，False实际值是0"
   ]
  },
  {
   "cell_type": "code",
   "execution_count": 56,
   "metadata": {},
   "outputs": [
    {
     "name": "stdout",
     "output_type": "stream",
     "text": [
      "[1, 'a', 2.4, 502.2, [1, 2, 3]] <class 'list'>\n"
     ]
    }
   ],
   "source": [
    "# List列表，支持字符，数字，字符串以包含列表（即嵌套），用[]标识，有序对象\n",
    "\n",
    "x5 = [1,'a',2.4,502.2,[1,2,3]]\n",
    "print(x5,type(x5))"
   ]
  },
  {
   "cell_type": "code",
   "execution_count": 57,
   "metadata": {},
   "outputs": [
    {
     "name": "stdout",
     "output_type": "stream",
     "text": [
      "(1, 2, 3, 'hello') <class 'tuple'>\n"
     ]
    }
   ],
   "source": [
    "# Tuple元祖，用（）标识，不能二次赋值，可以理解成不可变的列表（只读列表），有序对象\n",
    "\n",
    "x6 = (1,2,3,'hello')\n",
    "print(x6,type(x6))"
   ]
  },
  {
   "cell_type": "code",
   "execution_count": 58,
   "metadata": {},
   "outputs": [
    {
     "name": "stdout",
     "output_type": "stream",
     "text": [
      "{'name': 'fatbird', 'city': 'shanghai', 'tel': 10001000} <class 'dict'>\n"
     ]
    }
   ],
   "source": [
    "# Dict字典，用{}标识，由索引(key)和它对应的值value组成，无序对象\n",
    "\n",
    "x7 = {\"name\":\"fatbird\", \"city\":\"shanghai\", \"tel\":10001000}\n",
    "print(x7,type(x7))"
   ]
  },
  {
   "cell_type": "code",
   "execution_count": 59,
   "metadata": {},
   "outputs": [
    {
     "name": "stdout",
     "output_type": "stream",
     "text": [
      "10.8 <class 'float'>\n",
      "10 <class 'int'>\n",
      "----------\n",
      "10 <class 'int'>\n",
      "10.0 <class 'float'>\n",
      "----------\n",
      "10.0 <class 'float'>\n",
      "10.0 <class 'str'>\n",
      "10.0 <class 'float'>\n",
      "----------\n"
     ]
    }
   ],
   "source": [
    "# 数据类型转换方法  **这里暂时只针对int，float，str三者，list/tuple/dict后面课程讲\n",
    "\n",
    "var1 = 10.8\n",
    "var2 = int(var1)\n",
    "print(var1,type(var1))\n",
    "print(var2,type(var2))\n",
    "print('----------')\n",
    "# int(x)函数：将x转为整数，如果是四舍五入则是round(x)函数\n",
    "\n",
    "var1 = 10\n",
    "var2 = float(var1)\n",
    "print(var1,type(var1))\n",
    "print(var2,type(var2))\n",
    "print('----------')\n",
    "# float(x)函数：将x转为浮点数\n",
    "\n",
    "var1 = 10.0\n",
    "var2 = str(var1)\n",
    "var3 = float(var2)\n",
    "print(var1,type(var1))\n",
    "print(var2,type(var2))\n",
    "print(var3,type(var3))\n",
    "print('----------')\n",
    "# str(x)函数：将x转为字符串"
   ]
  },
  {
   "cell_type": "code",
   "execution_count": 60,
   "metadata": {},
   "outputs": [
    {
     "name": "stdout",
     "output_type": "stream",
     "text": [
      "100\n",
      "1000.0\n",
      "John\n"
     ]
    }
   ],
   "source": [
    "'''\n",
    "【课程1.2】  认识变量\n",
    "\n",
    "什么是变量？ —— 方程式“=”左边的，就是变量\n",
    "1、给变量赋值即创建该变量，并且同时赋予该变量\n",
    "① 变量名\n",
    "② 变量类型\n",
    "等号（=）用来给变量赋值\n",
    "\n",
    "2、变量命名规则：\n",
    "① 变量名第一个字符必须是字母（大小写均可）或者下划线（“_”），不能数字开头；\n",
    "② 变量名不能和常用功能性名字重合，例如print，if，for\n",
    "③ 不要有空格\n",
    "\n",
    "'''\n",
    "\n",
    "# 变量赋值\n",
    "\n",
    "counter = 100 # 赋值整型变量\n",
    "miles = 1000.0 # 浮点型\n",
    "name = \"John\" # 字符串\n",
    " \n",
    "print(counter)\n",
    "print(miles)\n",
    "print(name)"
   ]
  },
  {
   "cell_type": "code",
   "execution_count": 61,
   "metadata": {},
   "outputs": [
    {
     "name": "stdout",
     "output_type": "stream",
     "text": [
      "1 1 1 1 2 hello\n"
     ]
    }
   ],
   "source": [
    "# 多变量赋值\n",
    "\n",
    "a = b = c = 1\n",
    "d , e , f = 1 , 2 , 'hello'\n",
    "print(a,b,c,d,e,f)"
   ]
  },
  {
   "cell_type": "code",
   "execution_count": 62,
   "metadata": {},
   "outputs": [
    {
     "name": "stdout",
     "output_type": "stream",
     "text": [
      "10\n",
      "20\n"
     ]
    }
   ],
   "source": [
    "# 动态变量 → 变量的值是可更改的，或者说，变量可以随时指向任意值\n",
    "\n",
    "var1 = 10\n",
    "print(var1)\n",
    "var1 = 20\n",
    "print(var1)"
   ]
  },
  {
   "cell_type": "code",
   "execution_count": 63,
   "metadata": {},
   "outputs": [
    {
     "name": "stdout",
     "output_type": "stream",
     "text": [
      "444\n",
      "198\n",
      "39483\n",
      "2.6097560975609757\n",
      "2\n",
      "75\n",
      "199580904170858944588683464608694075062943107082809027605498347841561605181074274426665986623764972439807786764739130193391688887305693295698132008415537889753720415793877902074665765736230030622222862498385818118244547668141388643750880896837470534556730014314212951333550122949806119583030226121714710874561\n"
     ]
    }
   ],
   "source": [
    "\"\"\"\n",
    "使用变量保存数据并进行算术运算\n",
    "\"\"\"\n",
    "\n",
    "a = 321\n",
    "b = 123\n",
    "print(a + b)\n",
    "print(a - b)\n",
    "print(a * b)\n",
    "print(a / b)\n",
    "print(a // b)\n",
    "print(a % b)\n",
    "print(a ** b)"
   ]
  },
  {
   "cell_type": "markdown",
   "metadata": {},
   "source": [
    "在Python中可以使用`type`函数对变量的类型进行检查。程序设计中函数的概念跟数学上函数的概念是一致的，数学上的函数相信大家并不陌生，它包括了函数名、自变量和因变量。"
   ]
  },
  {
   "cell_type": "code",
   "execution_count": 64,
   "metadata": {},
   "outputs": [
    {
     "name": "stdout",
     "output_type": "stream",
     "text": [
      "<class 'int'>\n",
      "<class 'float'>\n",
      "<class 'complex'>\n",
      "<class 'str'>\n",
      "<class 'bool'>\n"
     ]
    }
   ],
   "source": [
    "\"\"\"\n",
    "使用type()检查变量的类型\n",
    "\"\"\"\n",
    "\n",
    "a = 100\n",
    "b = 12.345\n",
    "c = 1 + 5j\n",
    "d = 'hello, world'\n",
    "e = True\n",
    "print(type(a)) # <class 'int'>\n",
    "print(type(b)) # <class 'float'>\n",
    "print(type(c)) # <class 'complex'>\n",
    "print(type(d)) # <class 'str'>\n",
    "print(type(e)) # <class 'bool'>"
   ]
  },
  {
   "cell_type": "markdown",
   "metadata": {},
   "source": [
    "可以使用Python中内置的函数对变量类型进行转换。\n",
    "\n",
    "- `int()`：将一个数值或字符串转换成整数，可以指定进制。\n",
    "- `float()`：将一个字符串转换成浮点数。\n",
    "- `str()`：将指定的对象转换成字符串形式，可以指定编码。\n",
    "- `chr()`：将整数转换成该编码对应的字符串（一个字符）。\n",
    "- `ord()`：将字符串（一个字符）转换成对应的编码（整数）。\n",
    "\n",
    "下面的代码通过键盘输入两个整数来实现对两个整数的算术运算。"
   ]
  },
  {
   "cell_type": "code",
   "execution_count": null,
   "metadata": {},
   "outputs": [],
   "source": [
    "\"\"\"\n",
    "使用input()函数获取键盘输入(字符串)\n",
    "使用int()函数将输入的字符串转换成整数\n",
    "使用print()函数输出带占位符的字符串\n",
    "\"\"\"\n",
    "\n",
    "a = int(input('a = '))\n",
    "b = int(input('b = '))\n",
    "print('%d + %d = %d' % (a, b, a + b))\n",
    "print('%d - %d = %d' % (a, b, a - b))\n",
    "print('%d * %d = %d' % (a, b, a * b))\n",
    "print('%d / %d = %f' % (a, b, a / b))\n",
    "print('%d // %d = %d' % (a, b, a // b))\n",
    "print('%d %% %d = %d' % (a, b, a % b))\n",
    "print('%d ** %d = %d' % (a, b, a ** b))"
   ]
  },
  {
   "cell_type": "markdown",
   "metadata": {},
   "source": [
    ">**说明**：上面的print函数中输出的字符串使用了占位符语法，其中%d是整数的占位符，%f是小数的占位符，%%表示百分号（因为百分号代表了占位符，所以带占位符的字符串中要表示百分号必须写成%%），字符串之后的%后面跟的变量值会替换掉占位符然后输出到终端中，运行上面的程序，看看程序执行结果就明白啦。\n",
    "\n",
    "**运算符：**\n",
    "\n",
    "Python支持多种运算符，下表大致按照优先级从高到低的顺序列出了所有的运算符，运算符的优先级指的是多个运算符同时出现时，先做什么运算然后再做什么运算。除了我们之前已经用过的赋值运算符和算术运算符，我们稍后会陆续讲到其他运算符的使用。\n",
    "\n",
    "运算符|描述\n",
    "-|-\n",
    "[] [:]|下标，切片\n",
    "**|指数\n",
    "~ + -|按位取反, 正负号\n",
    "* / % //|乘，除，模，整除\n",
    "+ -|加，减\n",
    ">> <<|右移，左移\n",
    "&|按位与\n",
    "^ \\||按位异或，按位或\n",
    "<= < > >=|小于等于，小于，大于，大于等于\n",
    "== !=|等于，不等于\n",
    "is is not|身份运算符\n",
    "in not in|成员运算符\n",
    "not or and|逻辑运算符\n",
    "= += -= *= /= %= //= **= &= ^= >>= <<=|其它\n",
    "\n",
    ">说明：在实际开发中，如果搞不清楚运算符的优先级，可以使用括号来确保运算的执行顺序。\n",
    "\n",
    "下面的例子演示了赋值运算符和复合赋值运算符的使用。"
   ]
  },
  {
   "cell_type": "code",
   "execution_count": null,
   "metadata": {},
   "outputs": [],
   "source": [
    "\"\"\"\n",
    "赋值运算符和复合赋值运算符\n",
    "\"\"\"\n",
    "\n",
    "a = 10\n",
    "b = 3\n",
    "a += b # 相当于：a = a + b\n",
    "a *= a + 2 # 相当于：a = a * (a + 2)\n",
    "print(a) # 想想这里会输出什么"
   ]
  },
  {
   "cell_type": "markdown",
   "metadata": {},
   "source": [
    "下面的例子演示了比较运算符（关系运算符）、逻辑运算符和身份运算符的使用。"
   ]
  },
  {
   "cell_type": "code",
   "execution_count": null,
   "metadata": {},
   "outputs": [],
   "source": [
    "\"\"\"\n",
    "比较、逻辑和算身份运算符的使用\n",
    "\"\"\"\n",
    "\n",
    "flag0 = 1 == 1\n",
    "flag1 = 3 > 2\n",
    "flag2 = 2 < 1\n",
    "flag3 = flag1 and flag2\n",
    "flag4 = flag1 or flag2\n",
    "flag5 = not (1 != 2)\n",
    "print('flag0 =', flag0) # flag0 = True\n",
    "print('flag1 =', flag1) # flag1 = True\n",
    "print('flag2 =', flag2) # flag2 = False\n",
    "print('flag3 =', flag3) # flag3 = False\n",
    "print('flag4 =', flag4) # flag4 = True\n",
    "print('flag5 =', flag5) # flag5 = False\n",
    "print(flag1 is True) # True\n",
    "print(flag2 is not False) # False"
   ]
  },
  {
   "cell_type": "markdown",
   "metadata": {},
   "source": [
    "### 运算符"
   ]
  },
  {
   "cell_type": "code",
   "execution_count": null,
   "metadata": {},
   "outputs": [],
   "source": [
    "'''\n",
    "【课程2.3】  运算符\n",
    "\n",
    "什么是运算符？\n",
    "1 +2 = 3 的例子中，1 和 2 被称为操作数，\"+\" 称为运算符\n",
    "'''\n",
    "\n",
    "# 算数运算符\n",
    "a, b, c = 21, 10, 0\n",
    "\n",
    "c = a + b  # 加法\n",
    "print (\"a加b 的值为：\", c)\n",
    "\n",
    "c = a - b  # 减法\n",
    "print( \"a减b 的值为：\", c )\n",
    " \n",
    "c = a * b  # 乘法\n",
    "print( \"a乘b 的值为：\", c )\n",
    " \n",
    "c = a / b  # 除法\n",
    "print( \"a除b 的值为：\", c )\n",
    " \n",
    "c = a % b  # 取模，返回除法的余数\n",
    "print( \"a取b的模为：\", c)\n",
    " \n",
    "# 修改变量 a 、b 、c\n",
    "a, b, = 2, 3\n",
    "c = a**b   # 幂\n",
    "print( \"2的3次方的值为：\", c)\n",
    " \n",
    "a, b = 10, 4\n",
    "c = a//b  # 取整除数 \n",
    "print( \"10除4的整除数为：\", c)"
   ]
  },
  {
   "cell_type": "code",
   "execution_count": null,
   "metadata": {},
   "outputs": [],
   "source": [
    "# 比较运算符\n",
    "\n",
    "a, b = 21, 10\n",
    "print(a == b)  # 等于\n",
    "print(a != b)  # 不等于\n",
    "print(a > b)  # 大于\n",
    "print(a < b)  # 小于\n",
    "print(a >= 21)  # 大于等于\n",
    "print(a <= 2)  # 小于等于"
   ]
  },
  {
   "cell_type": "code",
   "execution_count": null,
   "metadata": {},
   "outputs": [],
   "source": [
    "# 逻辑运算符\n",
    "\n",
    "print(True and False)  # and：且\n",
    "print(True or False)  # or：或\n",
    "print(not True)  # not：非\n",
    "print('-----')\n",
    "\n",
    "# 布尔型的本质：True的值等于1，False的值等于0\n",
    "print(True>0)\n",
    "print('-----')\n",
    "\n",
    "print(bool(0),bool(3),bool(-1),bool([1,2,3]),bool(0))\n",
    "# bool()函数：将值转换为布尔型，其中只有以下情况bool()返回False：0, 0.0, None，'', [] , {}"
   ]
  },
  {
   "cell_type": "code",
   "execution_count": null,
   "metadata": {},
   "outputs": [],
   "source": [
    "# 成员运算符\n",
    "\n",
    "lst = [1,2,3,4,5,6]\n",
    "a,b = 1,10\n",
    "print(a in lst)  # a 在 lst 序列中 , 如果 x 在 y 序列中返回 True。\n",
    "print(b not in lst)  # b 不在 lst 序列中 , 如果 x 不在 y 序列中返回 True。"
   ]
  },
  {
   "cell_type": "markdown",
   "metadata": {},
   "source": [
    "### 基本语句\n",
    "\n",
    "#### 注释\n",
    "\n",
    "**注释用来说明代码**\n",
    "\n",
    "程序运行的时候，Python解释器会直接忽略掉注释 → 有没有注释不影响程序的执行结果，但是影响到别人能不能看懂你的代码。\n",
    "\n",
    ">注意：注释只在脚本中起作用。“#”不只代表注释,还代表某些文件的特殊格式，写在脚本开头\n",
    "\n",
    "#### 分支结构\n",
    "\n",
    "迄今为止，我们写的Python代码都是一条一条语句顺序执行，这种代码结构通常称之为顺序结构。然而仅有顺序结构并不能解决所有的问题，比如我们设计一个游戏，游戏第一关的通关条件是玩家获得1000分，那么在完成本局游戏后，我们要根据玩家得到分数来决定究竟是进入第二关，还是告诉玩家\"Game Over\"，这里就会产生两个分支，而且这两个分支只有一个会被执行。类似的场景还有很多，我们将这种结构称之为“分支结构”或“选择结构”。\n",
    "\n",
    "**if语句的使用：**\n",
    "\n",
    "在Python中，要构造分支结构可以使用if、elif和else关键字。所谓关键字就是有特殊含义的单词，像if和else就是专门用于构造分支结构的关键字，很显然你不能够使用它作为变量名（事实上，用作其他的标识符也是不可以）。下面的例子中演示了如何构造一个分支结构。"
   ]
  },
  {
   "cell_type": "code",
   "execution_count": null,
   "metadata": {},
   "outputs": [],
   "source": [
    "\"\"\"\n",
    "用户身份验证\n",
    "\"\"\"\n",
    "\n",
    "username = input('请输入用户名: ')\n",
    "password = input('请输入口令: ')\n",
    "# 用户名是admin且密码是123456则身份验证成功否则身份验证失败\n",
    "if username == 'admin' and password == '123456':\n",
    "    print('身份验证成功!')\n",
    "else:\n",
    "    print('身份验证失败!')"
   ]
  },
  {
   "cell_type": "markdown",
   "metadata": {},
   "source": [
    "唯一需要说明的是和C/C++、Java等语言不同，Python中没有用花括号来构造代码块而是使用了缩进的方式来设置代码的层次结构，如果if条件成立的情况下需要执行多条语句，只要保持多条语句具有相同的缩进就可以了，换句话说连续的代码如果又保持了相同的缩进那么它们属于同一个代码块，相当于是一个执行的整体。\n",
    "\n",
    "当然如果要构造出更多的分支，可以使用if…elif…else…结构，例如下面的分段函数求值。"
   ]
  },
  {
   "cell_type": "code",
   "execution_count": null,
   "metadata": {},
   "outputs": [],
   "source": [
    "\"\"\"\n",
    "分段函数求值：\n",
    "       3x - 5  (x > 1)\n",
    "f(x) = x + 2   (-1 <= x <= 1)\n",
    "       5x + 3  (x < -1)\n",
    "\"\"\"\n",
    "x = float(input('x = '))\n",
    "if x > 1:\n",
    "    y = 3 * x - 5\n",
    "elif x >= -1:\n",
    "    y = x + 2\n",
    "else:\n",
    "    y = 5 * x + 3\n",
    "print('f(%.2f) = %.2f' % (x, y))"
   ]
  },
  {
   "cell_type": "markdown",
   "metadata": {},
   "source": [
    "当然根据实际开发的需要，分支结构是可以嵌套的，例如判断是否通关以后还要根据你获得的宝物或者道具的数量对你的表现给出等级（比如点亮两颗或三颗星星），那么我们就需要在if的内部构造出一个新的分支结构，同理elif和else中也可以再构造新的分支，我们称之为嵌套的分支结构，也就是说上面的代码也可以写成下面的样子。"
   ]
  },
  {
   "cell_type": "code",
   "execution_count": null,
   "metadata": {},
   "outputs": [],
   "source": [
    "\"\"\"\n",
    "分段函数求值\n",
    "       3x - 5 (x > 1)\n",
    "f(x) = x + 2 (-1 <= x <= 1)\n",
    "       5x + 3 (x < -1)\n",
    "\"\"\"\n",
    "x = float(input('x = '))\n",
    "if x > 1:\n",
    "    y = 3 * x - 5\n",
    "else:\n",
    "    if x >= -1:\n",
    "        y = x + 2\n",
    "    else:\n",
    "        y = 5 * x + 3\n",
    "print('f(%.2f) = %.2f' % (x, y))"
   ]
  },
  {
   "cell_type": "markdown",
   "metadata": {},
   "source": [
    ">**说明**：大家可以自己感受一下这两种写法到底是哪一种更好。在之前我们提到的Python之禅中有这么一句话\"Flat is better than nested.\"，之所以提倡代码“扁平化”是因为嵌套结构的嵌套层次多了之后会严重的影响代码的可读性，所以能使用扁平化的结构时就不要使用嵌套。\n",
    "\n",
    "#### 循环结构\n",
    "\n",
    "如果在程序中我们需要重复的执行某条或某些指令，例如用程序控制机器人踢足球，如果机器人持球而且还没有进入射门范围，那么我们就要一直发出让机器人向球门方向奔跑的指令。当然你可能已经注意到了，刚才的描述中不仅仅有需要重复的动作，还需要用到上面讲的分支结构。\n",
    "\n",
    "再举一个简单的例子，我们要实现一个每隔1秒中在屏幕上打印一次\"hello, world\"并持续打印一个小时的程序，我们肯定不能够直接把 `print('hello, world')` 这句代码写3600遍，如果真的要这样做，那么编程的工作就太无聊乏味了。因此，我们还需要了解一下循环结构，有了循环结构我们就可以轻松的控制某件事或者某些事重复、重复、再重复的去执行。\n",
    "\n",
    "在Python中构造循环结构有两种做法，一种是`for-in`循环，一种是`while`循环。\n",
    "\n",
    "**for-in循环：**\n",
    "\n",
    "如果明确的知道循环执行的次数或者要对一个容器进行迭代，那么我们推荐使用for-in循环，例如下面代码中计算1~100求和的结果"
   ]
  },
  {
   "cell_type": "code",
   "execution_count": null,
   "metadata": {},
   "outputs": [],
   "source": [
    "\"\"\"\n",
    "用for循环实现1~100求和\n",
    "\"\"\"\n",
    "\n",
    "sum = 0\n",
    "for x in range(101):\n",
    "    sum += x\n",
    "print(sum)"
   ]
  },
  {
   "cell_type": "markdown",
   "metadata": {},
   "source": [
    "需要说明的是上面代码中的 `range(101)` 可以用来构造一个从0到100的取值范围，这样就可以构造出一个整数的序列并用于循环中，例如：\n",
    "\n",
    "- `range(101)` 可以产生一个0到100的整数序列。\n",
    "- `range(1, 100)` 可以产生一个1到99的整数序列。\n",
    "- `range(1, 100, 2)` 可以产生一个1到99的奇数序列，其中2是步长，即数值序列的增量。\n",
    "\n",
    "知道了这一点，我们可以用下面的代码来实现1~100之间的偶数求和。"
   ]
  },
  {
   "cell_type": "code",
   "execution_count": null,
   "metadata": {},
   "outputs": [],
   "source": [
    "\"\"\"\n",
    "用for循环实现1~100之间的偶数求和\n",
    "\"\"\"\n",
    "sum = 0\n",
    "for x in range(2, 101, 2):\n",
    "    sum += x\n",
    "print(sum)"
   ]
  },
  {
   "cell_type": "markdown",
   "metadata": {},
   "source": [
    "也可以通过在循环中使用分支结构的方式来实现相同的功能，代码如下所示。"
   ]
  },
  {
   "cell_type": "code",
   "execution_count": null,
   "metadata": {},
   "outputs": [],
   "source": [
    "\"\"\"\n",
    "用for循环实现1~100之间的偶数求和\n",
    "\"\"\"\n",
    "\n",
    "sum = 0\n",
    "for x in range(1, 101):\n",
    "    if x % 2 == 0:\n",
    "        sum += x\n",
    "print(sum)"
   ]
  },
  {
   "cell_type": "markdown",
   "metadata": {},
   "source": [
    "**while循环：**\n",
    "\n",
    "如果要构造不知道具体循环次数的循环结构，我们推荐使用while循环。\n",
    "\n",
    "while循环通过一个能够产生或转换出bool值的表达式来控制循环，表达式的值为True循环继续，表达式的值为False循环结束。\n",
    "\n",
    "下面我们通过一个“猜数字”的小游戏（计算机出一个1~100之间的随机数，用户输入自己猜的数字，计算机给出对应的提示信息，直到人猜出计算机出的数字）来看看如何使用while循环。"
   ]
  },
  {
   "cell_type": "code",
   "execution_count": null,
   "metadata": {},
   "outputs": [],
   "source": [
    "\"\"\"\n",
    "猜数字游戏\n",
    "计算机出一个1~100之间的随机数由人来猜\n",
    "计算机根据人猜的数字分别给出提示大一点/小一点/猜对了\n",
    "\"\"\"\n",
    "\n",
    "import random\n",
    "\n",
    "answer = random.randint(1, 100)\n",
    "counter = 0\n",
    "while True:\n",
    "    counter += 1\n",
    "    number = int(input('请输入: '))\n",
    "    if number < answer:\n",
    "        print('大一点')\n",
    "    elif number > answer:\n",
    "        print('小一点')\n",
    "    else:\n",
    "        print('恭喜你猜对了!')\n",
    "        break\n",
    "print('你总共猜了%d次' % counter)\n",
    "if counter > 7:\n",
    "    print('你的智商余额明显不足')"
   ]
  },
  {
   "cell_type": "markdown",
   "metadata": {},
   "source": [
    "上面的代码中使用了 `break` 关键字来提前终止循环，需要注意的是 `break` 只能终止它所在的那个循环，这一点在使用嵌套的循环结构（下面会讲到）需要引起注意。除了 `break` 之外，还有另一个关键字是 `continue`，它可以用来放弃本次循环后续的代码直接让循环进入下一轮。\n",
    "\n",
    "和分支结构一样，循环结构也是可以嵌套的，也就是说在循环中还可以构造循环结构。下面的例子演示了如何通过嵌套的循环来输出一个九九乘法表。"
   ]
  },
  {
   "cell_type": "code",
   "execution_count": null,
   "metadata": {},
   "outputs": [],
   "source": [
    "\"\"\"\n",
    "输出乘法口诀表(九九表)\n",
    "\"\"\"\n",
    "\n",
    "for i in range(1, 10):\n",
    "    for j in range(1, i + 1):\n",
    "        print('%d*%d=%d' % (i, j, i * j), end='\\t')\n",
    "    print()"
   ]
  },
  {
   "cell_type": "markdown",
   "metadata": {},
   "source": [
    "#### 构造程序逻辑\n",
    "\n",
    "学完前面的知识后，我觉得有必要在这里带大家做一些练习来巩固之前所学的知识，虽然迄今为止我们学习的内容只是Python的冰山一角，但是这些内容已经足够我们来构建程序中的逻辑。\n",
    "\n",
    "对于编程语言的初学者来说，在学习了Python的核心语言元素（变量、类型、运算符、表达式、分支结构、循环结构等）之后，必须做的一件事情就是尝试用所学知识去解决现实中的问题，换句话说就是锻炼自己把用人类自然语言描述的算法（解决问题的方法和步骤）翻译成Python代码的能力，而这件事情必须通过大量的练习才能达成。\n",
    "\n",
    "### 函数和模块的使用\n",
    "\n",
    "我们先来研究一道数学题，请说出下面的方程有多少组正整数解：$x_1+x_2+x_3+x_4=8$\n",
    "\n",
    "事实上，上面的问题等同于将8个苹果分成四组每组至少一个苹果有多少种方案。想到这一点问题的答案就呼之欲出了。\n",
    "\n",
    "$$C^N_M=\\frac{M!}{N!(M-N)!'}，(M=7,N=3)$$\n",
    "\n",
    "可以用Python的程序来计算出这个值，代码如下所示。"
   ]
  },
  {
   "cell_type": "code",
   "execution_count": null,
   "metadata": {},
   "outputs": [],
   "source": [
    "\"\"\"\n",
    "输入M和N计算C(M,N)\n",
    "\"\"\"\n",
    "m = int(input('m = '))\n",
    "n = int(input('n = '))\n",
    "fm = 1\n",
    "for num in range(1, m + 1):\n",
    "    fm *= num\n",
    "fn = 1\n",
    "for num in range(1, n + 1):\n",
    "    fn *= num\n",
    "fmn = 1\n",
    "for num in range(1, m - n + 1):\n",
    "    fmn *= num\n",
    "print(fm // fn // fmn)"
   ]
  },
  {
   "cell_type": "markdown",
   "metadata": {},
   "source": [
    "**函数的作用：**\n",
    "\n",
    "在上面的代码中，我们做了3次求阶乘，这样的代码实际上就是重复代码。编程大师Martin Fowler先生曾经说过：“**代码有很多种坏味道，重复是最坏的一种！**”，要写出高质量的代码首先要解决的就是重复代码的问题。对于上面的代码来说，我们可以将计算阶乘的功能封装到一个称之为“函数”的功能模块中，在需要计算阶乘的地方，我们只需要“调用”这个“函数”就可以了。\n",
    "\n",
    "**定义函数：**\n",
    "\n",
    "在Python中可以使用def关键字来定义函数，和变量一样每个函数也有一个响亮的名字，而且命名规则跟变量的命名规则是一致的。\n",
    "\n",
    "在函数名后面的圆括号中可以放置传递给函数的参数，这一点和数学上的函数非常相似，程序中函数的参数就相当于是数学上说的函数的自变量，而函数执行完成后我们可以通过return关键字来返回一个值，这相当于数学上说的函数的因变量。\n",
    "\n",
    "在了解了如何定义函数后，我们可以对上面的代码进行重构，所谓重构就是在不影响代码执行结果的前提下对代码的结构进行调整，重构之后的代码如下所示："
   ]
  },
  {
   "cell_type": "code",
   "execution_count": null,
   "metadata": {},
   "outputs": [],
   "source": [
    "def factorial(num):\n",
    "    \"\"\"求阶乘\"\"\"\n",
    "    result = 1\n",
    "    for n in range(1, num + 1):\n",
    "        result *= n\n",
    "    return result\n",
    "\n",
    "m = int(input('m = '))\n",
    "n = int(input('n = '))\n",
    "# 当需要计算阶乘的时候不用再写循环求阶乘而是直接调用已经定义好的函数\n",
    "print(factorial(m) // factorial(n) // factorial(m - n))"
   ]
  },
  {
   "cell_type": "markdown",
   "metadata": {},
   "source": [
    ">说明：Python的`math`模块中其实已经有一个`factorial`函数了，事实上要计算阶乘可以直接使用这个现成的函数而不用自己定义。下面例子中的一些函数在Python中也都是现成的，我们这里是为了讲解函数的定义和使用才把它们又实现了一遍，实际开发中不建议做这种低级的重复性的工作。\n",
    "\n",
    "**函数的参数：**\n",
    "\n",
    "函数是绝大多数编程语言中都支持的一个代码的“构建块”，但是Python中的函数与其他语言中的函数还是有很多不太相同的地方，其中一个显著的区别就是Python对函数参数的处理。\n",
    "\n",
    "在Python中，函数的参数可以有默认值，也支持使用可变参数，所以Python并不需要像其他语言一样支持[函数的重载](https://zh.wikipedia.org/wiki/%E5%87%BD%E6%95%B0%E9%87%8D%E8%BD%BD)，因为我们在定义一个函数的时候可以让它有多种不同的使用方式，下面是两个小例子。"
   ]
  },
  {
   "cell_type": "code",
   "execution_count": null,
   "metadata": {},
   "outputs": [],
   "source": [
    "from random import randint\n",
    "\n",
    "def roll_dice(n=2):\n",
    "    \"\"\"摇色子\"\"\"\n",
    "    total = 0\n",
    "    for _ in range(n):\n",
    "        total += randint(1, 6)\n",
    "    return total\n",
    "\n",
    "def add(a=0, b=0, c=0):\n",
    "    \"\"\"三个数相加\"\"\"\n",
    "    return a + b + c\n",
    "\n",
    "# 如果没有指定参数那么使用默认值摇两颗色子\n",
    "print(roll_dice())\n",
    "# 摇三颗色子\n",
    "print(roll_dice(3))\n",
    "print(add())\n",
    "print(add(1))\n",
    "print(add(1, 2))\n",
    "print(add(1, 2, 3))\n",
    "# 传递参数时可以不按照设定的顺序进行传递\n",
    "print(add(c=50, a=100, b=200))"
   ]
  },
  {
   "cell_type": "markdown",
   "metadata": {},
   "source": [
    "我们给上面两个函数的参数都设定了默认值，这也就意味着如果在调用函数的时候如果没有传入对应参数的值时将使用该参数的默认值，所以在上面的代码中我们可以用各种不同的方式去调用add函数，这跟其他很多语言中函数重载的效果是一致的。\n",
    "\n",
    "其实上面的add函数还有更好的实现方案，因为我们可能会对0个或多个参数进行加法运算，而具体有多少个参数是由调用者来决定，我们作为函数的设计者对这一点是一无所知的，因此在不确定参数个数的时候，我们可以使用可变参数，代码如下所示："
   ]
  },
  {
   "cell_type": "code",
   "execution_count": null,
   "metadata": {},
   "outputs": [],
   "source": [
    "# 在参数名前面的*表示args是一个可变参数\n",
    "def add(*args):\n",
    "    total = 0\n",
    "    for val in args:\n",
    "        total += val\n",
    "    return total\n",
    "\n",
    "# 在调用add函数时可以传入0个或多个参数\n",
    "print(add())\n",
    "print(add(1))\n",
    "print(add(1, 2))\n",
    "print(add(1, 2, 3))\n",
    "print(add(1, 3, 5, 7, 9))"
   ]
  },
  {
   "cell_type": "markdown",
   "metadata": {},
   "source": [
    "**用模块管理函数：**\n",
    "\n",
    "对于任何一种编程语言来说，给变量、函数这样的标识符起名字都是一个让人头疼的问题，因为我们会遇到命名冲突这种尴尬的情况。\n",
    "\n",
    "最简单的场景就是在同一个.py文件中定义了两个同名函数，由于Python没有函数重载的概念，那么后面的定义会覆盖之前的定义，也就意味着两个函数同名函数实际上只有一个是存在的。"
   ]
  },
  {
   "cell_type": "code",
   "execution_count": null,
   "metadata": {},
   "outputs": [],
   "source": [
    "def foo():\n",
    "    print('hello, world!')\n",
    "\n",
    "def foo():\n",
    "    print('goodbye, world!')\n",
    "\n",
    "# 下面的代码会输出什么呢？\n",
    "foo()"
   ]
  },
  {
   "cell_type": "markdown",
   "metadata": {},
   "source": [
    "当然上面的这种情况我们很容易就能避免，但是如果项目是由多人协作进行团队开发的时候，团队中可能有多个程序员都定义了名为`foo`的函数，那么怎么解决这种命名冲突呢？\n",
    "\n",
    "答案其实很简单，Python中每个文件就代表了一个模块（module），我们在不同的模块中可以有同名的函数，在使用函数的时候我们通过 `import` 关键字导入指定的模块就可以区分到底要使用的是哪个模块中的 `foo` 函数，代码如下所示。\n",
    "\n",
    "\n",
    "module1.py：\n",
    "\n",
    "```python\n",
    "def foo():\n",
    "    print('hello, world!')\n",
    "```\n",
    "\n",
    "module2.py：\n",
    "\n",
    "```python\n",
    "def foo():\n",
    "    print('goodbye, world!')\n",
    "```\n",
    "\n",
    "test.py：\n",
    "\n",
    "```python\n",
    "from module1 import foo\n",
    "\n",
    "# 输出hello, world!\n",
    "foo()\n",
    "\n",
    "from module2 import foo\n",
    "\n",
    "# 输出goodbye, world!\n",
    "foo()\n",
    "```\n",
    "\n",
    "也可以按照如下所示的方式来区分到底要使用哪一个foo函数。\n",
    "\n",
    "test.py：\n",
    "\n",
    "```python\n",
    "import module1 as m1\n",
    "import module2 as m2\n",
    "\n",
    "m1.foo()\n",
    "m2.foo()\n",
    "```\n",
    "\n",
    "但是如果将代码写成了下面的样子，那么程序中调用的是最后导入的那个foo，因为后导入的foo覆盖了之前导入的foo。\n",
    "\n",
    "test.py：\n",
    "\n",
    "```python\n",
    "from module1 import foo\n",
    "from module2 import foo\n",
    "\n",
    "# 输出goodbye, world!\n",
    "foo()\n",
    "```\n",
    "\n",
    "test.py：\n",
    "\n",
    "```python\n",
    "from module2 import foo\n",
    "from module1 import foo\n",
    "\n",
    "# 输出hello, world!\n",
    "foo()\n",
    "```\n",
    "\n",
    "需要说明的是，如果我们导入的模块除了定义函数之外还有可以执行代码，那么Python解释器在导入这个模块时就会执行这些代码，事实上我们可能并不希望如此，因此如果我们在模块中编写了执行代码，最好是将这些执行代码放入如下所示的条件中，这样的话除非直接运行该模块，if条件下的这些代码是不会执行的，因为只有直接执行的模块的名字才是\"\\_\\_main__\"。"
   ]
  },
  {
   "cell_type": "code",
   "execution_count": null,
   "metadata": {},
   "outputs": [],
   "source": [
    "\"\"\"\n",
    "module3.py\n",
    "\"\"\"\n",
    "def foo():\n",
    "    pass\n",
    "\n",
    "def bar():\n",
    "    pass\n",
    "\n",
    "# __name__是Python中一个隐含的变量它代表了模块的名字\n",
    "# 只有被Python解释器直接执行的模块的名字才是__main__\n",
    "if __name__ == '__main__':\n",
    "    print('call foo()')\n",
    "    foo()\n",
    "    print('call bar()')\n",
    "    bar()"
   ]
  },
  {
   "cell_type": "markdown",
   "metadata": {},
   "source": [
    "test.py：\n",
    "\n",
    "```python\n",
    "import module3\n",
    "\n",
    "# 导入module3时 不会执行模块中if条件成立时的代码 因为模块的名字是module3而不是__main__\n",
    "```"
   ]
  },
  {
   "cell_type": "markdown",
   "metadata": {},
   "source": [
    "最后，我们来讨论一下Python中有关变量作用域的问题。"
   ]
  },
  {
   "cell_type": "code",
   "execution_count": null,
   "metadata": {},
   "outputs": [],
   "source": [
    "def foo():\n",
    "    b = 'hello'\n",
    "\n",
    "    # Python中可以在函数内部再定义函数\n",
    "    def bar():\n",
    "        c = True\n",
    "        print(a)\n",
    "        print(b)\n",
    "        print(c)\n",
    "\n",
    "    bar()\n",
    "    # print(c)  # NameError: name 'c' is not defined\n",
    "\n",
    "\n",
    "if __name__ == '__main__':\n",
    "    a = 100\n",
    "    # print(b)  # NameError: name 'b' is not defined\n",
    "    foo()"
   ]
  },
  {
   "cell_type": "markdown",
   "metadata": {},
   "source": [
    "上面的代码能够顺利的执行并且打印出100、hello和True，但我们注意到了，在bar函数的内部并没有定义a和b两个变量，那么a和b是从哪里来的。\n",
    "\n",
    "我们在上面代码的if分支中定义了一个变量a，这是一个全局变量（global variable），属于全局作用域，因为它没有定义在任何一个函数中。在上面的foo函数中我们定义了变量b，这是一个定义在函数中的局部变量（local variable），属于局部作用域，在foo函数的外部并不能访问到它；但对于foo函数内部的bar函数来说，变量b属于嵌套作用域，在bar函数中我们是可以访问到它的。bar函数中的变量c属于局部作用域，在bar函数之外是无法访问的。\n",
    "\n",
    "事实上，Python查找一个变量时会按照“局部作用域”、“嵌套作用域”、“全局作用域”和“内置作用域”的顺序进行搜索，前三者我们在上面的代码中已经看到了，所谓的“内置作用域”就是Python内置的那些标识符，我们之前用过的input、print、int等都属于内置作用域。\n",
    "\n",
    "再看看下面这段代码，我们希望通过函数调用修改全局变量a的值，但实际上下面的代码是做不到的。"
   ]
  },
  {
   "cell_type": "code",
   "execution_count": null,
   "metadata": {},
   "outputs": [],
   "source": [
    "def foo():\n",
    "    a = 200\n",
    "    print(a)  # 200\n",
    "\n",
    "\n",
    "if __name__ == '__main__':\n",
    "    a = 100\n",
    "    foo()\n",
    "    print(a)  # 100"
   ]
  },
  {
   "cell_type": "markdown",
   "metadata": {},
   "source": [
    "在调用 foo 函数后，我们发现 a 的值仍然是100，这是因为当我们在函数 foo 中写 `a=200` 的时候，是重新定义了一个名字为 a 的局部变量，它跟全局作用域的 a 并不是同一个变量，因为局部作用域中有了自己的变量 a，因此 foo 函数不再搜索全局作用域中的 a。如果我们希望在 foo 函数中修改全局作用域中的 a，代码如下所示："
   ]
  },
  {
   "cell_type": "code",
   "execution_count": null,
   "metadata": {},
   "outputs": [],
   "source": [
    "def foo():\n",
    "    global a\n",
    "    a = 200\n",
    "    print(a)  # 200\n",
    "\n",
    "\n",
    "if __name__ == '__main__':\n",
    "    a = 100\n",
    "    foo()\n",
    "    print(a)  # 200"
   ]
  },
  {
   "cell_type": "markdown",
   "metadata": {},
   "source": [
    "我们可以使用 `global` 关键字来指示 foo 函数中的变量 a 来自于全局作用域，如果全局作用域中没有 a，那么下面一行的代码就会定义变量 a 并将其置于全局作用域。同理，如果我们希望函数内部的函数能够修改嵌套作用域中的变量，可以使用 `nonlocal` 关键字来指示变量来自于嵌套作用域，请大家自行试验。\n",
    "\n",
    "在实际开发中，我们应该尽量减少对全局变量的使用，因为全局变量的作用域和影响过于广泛，可能会发生意料之外的修改和使用，除此之外全局变量比局部变量拥有更长的生命周期，可能导致对象占用的内存长时间无法被[垃圾回收](https://zh.wikipedia.org/wiki/%E5%9E%83%E5%9C%BE%E5%9B%9E%E6%94%B6_(%E8%A8%88%E7%AE%97%E6%A9%9F%E7%A7%91%E5%AD%B8))。事实上，减少对全局变量的使用，也是降低代码之间耦合度的一个重要举措，同时也是对[迪米特法则](https://zh.wikipedia.org/zh-hans/%E5%BE%97%E5%A2%A8%E5%BF%92%E8%80%B3%E5%AE%9A%E5%BE%8B)的践行。减少全局变量的使用就意味着我们应该尽量让变量的作用域在函数的内部，但是如果我们希望将一个局部变量的生命周期延长，使其在定义它的函数调用结束后依然可以使用它的值，这时候就需要使用[闭包](https://zh.wikipedia.org/wiki/%E9%97%AD%E5%8C%85_(%E8%AE%A1%E7%AE%97%E6%9C%BA%E7%A7%91%E5%AD%A6))。\n",
    "\n",
    ">说明：很多人经常会将“闭包”和“[匿名函数](https://zh.wikipedia.org/wiki/%E5%8C%BF%E5%90%8D%E5%87%BD%E6%95%B0)”混为一谈，但实际上它们是不同的概念，如果想提前了解这个概念，推荐看看维基百科或者知乎上对这个概念的讨论。\n",
    "\n",
    "说了那么多，其实结论很简单，从现在开始我们可以将Python代码按照下面的格式进行书写，这一点点的改进其实就是在我们理解了函数和作用域的基础上跨出的巨大的一步。"
   ]
  },
  {
   "cell_type": "code",
   "execution_count": null,
   "metadata": {},
   "outputs": [],
   "source": [
    "def main():\n",
    "    # Todo: Add your code here\n",
    "    pass\n",
    "\n",
    "\n",
    "if __name__ == '__main__':\n",
    "    main()"
   ]
  },
  {
   "cell_type": "markdown",
   "metadata": {},
   "source": [
    "**函数的返回值：**\n",
    "\n",
    "函数的返回值，形象的说是函数结的“果实”；有返回值的函数，称之为“结果”的函数。"
   ]
  },
  {
   "cell_type": "code",
   "execution_count": null,
   "metadata": {},
   "outputs": [],
   "source": [
    "import math\n",
    "\n",
    "def area(radius):\n",
    "    return math.pi * radius * 2\n",
    "\n",
    "area(5)"
   ]
  },
  {
   "cell_type": "markdown",
   "metadata": {},
   "source": [
    "`return` 语句的意思是：将表达式的值立即返回，表达式可以是任意复杂的。\n",
    "\n",
    "有时根据不同的条件，函数能够有多个返回语句。这些 return 语句处于不同的条件语句中，并且只可能有一个 return 语句被执行，之后函数就终止了。\n",
    "\n",
    "在有返回值的函数中，一定要保证每个可能的流程都对应着 return 语句。如果函数缺少一条对应分支的 return 语句，这种情况下，函数返回值是 None（注意N要大写）。\n",
    "\n",
    "None 是什么类型呢？可以用函数 type 检验一下：\n",
    "\n",
    "```python\n",
    "<type 'NoneType'>\n",
    "```\n",
    "\n",
    "由此可见，None 是不属于任何类型的类型。\n",
    "\n",
    "**lambda函数：**\n",
    "\n",
    "Python允许你定义一种单行的小函数。定义lambda函数的形式如下：\n",
    "\n",
    "```python\n",
    "labmda 参数：表达式\n",
    "```\n",
    "\n",
    "lambda函数默认返回表达式的值。你也可以将其赋值给一个变量。\n",
    "\n",
    "lambda函数可以接受任意个参数，包括可选参数，但是表达式只有一个："
   ]
  },
  {
   "cell_type": "code",
   "execution_count": null,
   "metadata": {},
   "outputs": [],
   "source": [
    "g = lambda x, y: x*y\n",
    "g(3,4)"
   ]
  },
  {
   "cell_type": "code",
   "execution_count": null,
   "metadata": {},
   "outputs": [],
   "source": [
    "g = lambda x, y=0, z=0: x+y+z\n",
    "g(1)"
   ]
  },
  {
   "cell_type": "code",
   "execution_count": null,
   "metadata": {},
   "outputs": [],
   "source": [
    "g(3, 4, 7)"
   ]
  },
  {
   "cell_type": "markdown",
   "metadata": {},
   "source": [
    "也能够直接使用lambda函数，不把它赋值给变量："
   ]
  },
  {
   "cell_type": "code",
   "execution_count": null,
   "metadata": {},
   "outputs": [],
   "source": [
    "(lambda x,y=0,z=0:x+y+z)(3,5,6)"
   ]
  },
  {
   "cell_type": "markdown",
   "metadata": {},
   "source": [
    "如果你的函数非常简单，只有一个表达式，不包含命令，可以考虑lambda函数。否则，你还是定义函数才对，毕竟函数没有这么多限制。\n",
    "\n",
    "## 实战\n",
    "\n",
    "### 安装\n",
    "\n",
    "**anaconda：** Data science technology for human sensemaking.\n",
    "\n",
    "A movement that brings together millions of data science practitioners, data-driven enterprises, and the open source community.\n",
    "\n",
    "官网: [https://www.anaconda.com/](https://www.anaconda.com/)\n",
    "\n",
    "镜像：[https://mirrors.tuna.tsinghua.edu.cn/anaconda/archive/](https://mirrors.tuna.tsinghua.edu.cn/anaconda/archive/)\n",
    "\n",
    "### 练习\n",
    "\n",
    "1、华氏温度到摄氏温度的转换公式为：$C = (F - 32) / 1.8$。\n",
    "\n",
    "2、[海伦公式](https://zh.wikipedia.org/zh-hans/%E6%B5%B7%E4%BC%A6%E5%85%AC%E5%BC%8F)\n",
    "\n",
    "3、素数指的是只能被1和自身整除的大于1的整数。\n",
    "\n",
    "4、水仙花数也被称为超完全数字不变数、自恋数、自幂数、阿姆斯特朗数，\n",
    "它是一个3位数，该数字每个位上数字的立方之和正好等于它本身，例如：$1^3 + 5^3+ 3^3=153$。\n",
    "\n",
    "5、百钱百鸡是我国古代数学家[张丘建](https://baike.baidu.com/item/%E5%BC%A0%E4%B8%98%E5%BB%BA/10246238)在《算经》一书中提出的数学问题：鸡翁一值钱五，鸡母一值钱三，鸡雏三值钱一。百钱买百鸡，问鸡翁、鸡母、鸡雏各几何？翻译成现代文是：公鸡5元一只，母鸡3元一只，小鸡1元三只，用100块钱买一百只鸡，问公鸡、母鸡、小鸡各有多少只？\n",
    "\n",
    "6、CRAPS又称花旗骰，是美国拉斯维加斯非常受欢迎的一种的桌上赌博游戏。该游戏使用两粒骰子，玩家通过摇两粒骰子获得点数进行游戏。简单的规则是：玩家第一次摇骰子如果摇出了7点或11点，玩家胜；玩家第一次如果摇出2点、3点或12点，庄家胜；其他点数玩家继续摇骰子，如果玩家摇出了7点，庄家胜；如果玩家摇出了第一次摇的点数，玩家胜；其他点数，玩家继续要骰子，直到分出胜负。\n",
    "\n",
    "7、斐波那契数列（Fibonacci sequence），又称黄金分割数列，是意大利数学家莱昂纳多·斐波那契（Leonardoda Fibonacci）在《计算之书》中提出一个在理想假设条件下兔子成长率的问题而引入的数列，所以这个数列也被戏称为\"兔子数列\"。斐波那契数列的特点是数列的前两个数都是1，从第三个数开始，每个数都是它前面两个数的和，形如：1, 1, 2, 3, 5, 8, 13, 21, 34, 55, 89, 144, ...。斐波那契数列在现代物理、准晶体结构、化学等领域都有直接的应用。\n",
    "\n",
    "8、完美数又称为完全数或完备数，它的所有的真因子（即除了自身以外的因子）的和（即因子函数）恰好等于它本身。例如：6（6=1+2+3）和28（28=1+2+4+7+14）就是完美数。完美数有很多神奇的特性，有兴趣的可以自行了解。\n"
   ]
  },
  {
   "cell_type": "code",
   "execution_count": null,
   "metadata": {},
   "outputs": [],
   "source": []
  }
 ],
 "metadata": {
  "kernelspec": {
   "display_name": "Python 3",
   "language": "python",
   "name": "python3"
  },
  "language_info": {
   "codemirror_mode": {
    "name": "ipython",
    "version": 3
   },
   "file_extension": ".py",
   "mimetype": "text/x-python",
   "name": "python",
   "nbconvert_exporter": "python",
   "pygments_lexer": "ipython3",
   "version": "3.7.0"
  }
 },
 "nbformat": 4,
 "nbformat_minor": 4
}
